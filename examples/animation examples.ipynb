{
 "cells": [
  {
   "cell_type": "markdown",
   "metadata": {},
   "source": [
    "# Animations Example\n",
    "These are some examples of using the animation function included in my module **`wt_utils`**.\n",
    "\n",
    "\n",
    "If you have trouble running the examples in this notebook, try executing this in a ternminal to ensure you are fully up to date:\n",
    "~~~\n",
    "conda update --yes ipywidgets\n",
    "~~~\n",
    "\n",
    "Please also note that there is a bug in Chrome which sometimes causes plots not to appear until the animation is started. Resizing the window makes them appear."
   ]
  },
  {
   "cell_type": "code",
   "execution_count": 1,
   "metadata": {
    "collapsed": false
   },
   "outputs": [
    {
     "name": "stdout",
     "output_type": "stream",
     "text": [
      "Populating the interactive namespace from numpy and matplotlib\n"
     ]
    }
   ],
   "source": [
    "%pylab inline\n",
    "import wt_utils"
   ]
  },
  {
   "cell_type": "markdown",
   "metadata": {},
   "source": [
    "### Basic usage\n",
    "Here is a simple example of how you can use the `animate` function in your code.\n",
    "To animate a given quantity, place your code in a function that accepts a single parameter. Next, run the function `wt_utils.animate(...)` with two parameters. The first parameter is the name of your function, the second parameter is an iterable containing the values to be to be run through your function.\n",
    "\n",
    "If, for example, your executed `wt_utils.animate(my_func, arg=[1,5,9])`, then `my_func` would be executed with `arg=1`, then `arg=5`, and finally `arg=9`. It is important to note that the user may pause or restart the animation at any point, so you cannot rely on the order of the parameters."
   ]
  },
  {
   "cell_type": "code",
   "execution_count": 2,
   "metadata": {
    "collapsed": false,
    "scrolled": true
   },
   "outputs": [
    {
     "data": {
      "image/png": "[encoded data removed]",
      "text/plain": [
       "<matplotlib.figure.Figure at 0x23fb81b37f0>"
      ]
     },
     "metadata": {},
     "output_type": "display_data"
    }
   ],
   "source": [
    "def plotting_function(t):\n",
    "    x = arange(0, t, .1)\n",
    "    y = sin(x)\n",
    "    plot(x,y)\n",
    "    ylim(-10, 10)\n",
    "    xlim(0, 10)\n",
    "    \n",
    "wt_utils.animate(plotting_function, t=linspace(0, 10, 30))"
   ]
  },
  {
   "cell_type": "markdown",
   "metadata": {},
   "source": [
    "## Complex Plot\n",
    "Here is a more complex example, involving three subplots.\n",
    "The plotting function takes longer to run, so I have reduced the default update speed to 5Hz, down from the default 10Hz."
   ]
  },
  {
   "cell_type": "code",
   "execution_count": 3,
   "metadata": {
    "collapsed": false
   },
   "outputs": [
    {
     "data": {
      "image/png": "[encoded data removed]",
      "text/plain": [
       "<matplotlib.figure.Figure at 0x23fbaadaba8>"
      ]
     },
     "metadata": {},
     "output_type": "display_data"
    }
   ],
   "source": [
    "def plotting_function2(time):\n",
    "    \n",
    "    vel = subplot2grid((5, 5), (0, 0), colspan=1, rowspan=4)\n",
    "    phase = subplot2grid((5, 5), (0, 1), colspan=4, rowspan=4)\n",
    "    pos = subplot2grid((5, 5), (4, 1), colspan=4, rowspan=1)\n",
    "    \n",
    "    t = arange(0, time, .1)\n",
    "    if time == 0:\n",
    "        t = array([0])\n",
    "    x = cos(t)\n",
    "    v = sin(t)\n",
    "    \n",
    "    vel.plot([0], [v[-1]], 'ro')\n",
    "    vel.set_ylim(-1.5, 1.5)\n",
    "    vel.set_xlim(-1,1)\n",
    "    vel.set_ylabel('Velocity')\n",
    "    vel.tick_params(\n",
    "        axis='x',          # changes apply to the y-axis\n",
    "        which='both',      # both major and minor ticks are affected\n",
    "        top='off',\n",
    "        bottom='off',      # ticks along the bottom edge are off\n",
    "        labelbottom='off') # labels along the bottom edge are off\n",
    "    \n",
    "    pos.plot([x[-1]], [0], 'ro')\n",
    "    pos.set_ylim(-1.5, 1.5)\n",
    "    pos.set_xlim(-1.5, 1.5)\n",
    "    pos.set_xlabel('Position')\n",
    "    pos.tick_params(\n",
    "        axis='y',\n",
    "        which='both',\n",
    "        left='off',\n",
    "        right='off',\n",
    "        labelleft='off')\n",
    "    \n",
    "    phase.plot(x, v)\n",
    "    phase.set_ylim(-1.5, 1.5)\n",
    "    phase.set_xlim(-1.5, 1.5)\n",
    "    phase.tick_params(\n",
    "        axis='both',\n",
    "        which='both',\n",
    "        right='off',\n",
    "        top='off',\n",
    "        labelleft='off',labelbottom='off')\n",
    "    \n",
    "    tight_layout()\n",
    "    \n",
    "wt_utils.animate(plotting_function2, time=linspace(0, 10, 100), speed=5)"
   ]
  },
  {
   "cell_type": "code",
   "execution_count": null,
   "metadata": {
    "collapsed": true
   },
   "outputs": [],
   "source": []
  }
 ],
 "metadata": {
  "kernelspec": {
   "display_name": "Python 3",
   "language": "python",
   "name": "python3"
  },
  "language_info": {
   "codemirror_mode": {
    "name": "ipython",
    "version": 3
   },
   "file_extension": ".py",
   "mimetype": "text/x-python",
   "name": "python",
   "nbconvert_exporter": "python",
   "pygments_lexer": "ipython3",
   "version": "3.5.1"
  }
 },
 "nbformat": 4,
 "nbformat_minor": 0
}
